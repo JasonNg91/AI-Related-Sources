{
 "cells": [
  {
   "cell_type": "code",
   "execution_count": 52,
   "metadata": {},
   "outputs": [],
   "source": [
    "# 创建字符串\n",
    "s1 = \"python\" # 单引号与双引号创建的字符串完全一样\n",
    "s2 = 'python'\n",
    "s3 = \"\"\"\n",
    "python\n",
    "\"\"\" # 三引号字符串可以是多行字符串"
   ]
  },
  {
   "cell_type": "code",
   "execution_count": 4,
   "metadata": {},
   "outputs": [
    {
     "data": {
      "text/plain": [
       "'python'"
      ]
     },
     "execution_count": 4,
     "metadata": {},
     "output_type": "execute_result"
    }
   ],
   "source": [
    "s1"
   ]
  },
  {
   "cell_type": "code",
   "execution_count": 5,
   "metadata": {},
   "outputs": [
    {
     "data": {
      "text/plain": [
       "'python'"
      ]
     },
     "execution_count": 5,
     "metadata": {},
     "output_type": "execute_result"
    }
   ],
   "source": [
    "s2"
   ]
  },
  {
   "cell_type": "code",
   "execution_count": 6,
   "metadata": {},
   "outputs": [
    {
     "data": {
      "text/plain": [
       "'\\npython\\n'"
      ]
     },
     "execution_count": 6,
     "metadata": {},
     "output_type": "execute_result"
    }
   ],
   "source": [
    "s3"
   ]
  },
  {
   "cell_type": "code",
   "execution_count": 14,
   "metadata": {},
   "outputs": [
    {
     "name": "stdout",
     "output_type": "stream",
     "text": [
      "py\n",
      "thon\n"
     ]
    }
   ],
   "source": [
    "# 使用单引号和双引号创建多行字符串时可以使用转义字符\\n实现\n",
    "s = \"py\\nthon\"\n",
    "print(s)"
   ]
  },
  {
   "cell_type": "code",
   "execution_count": 8,
   "metadata": {},
   "outputs": [
    {
     "name": "stdout",
     "output_type": "stream",
     "text": [
      "python\"\n"
     ]
    }
   ],
   "source": [
    "# \\还可以屏蔽掉符号的含义\n",
    "s = \"python\\\"\" # 屏蔽掉第二个引号的功能\n",
    "print(s)"
   ]
  },
  {
   "cell_type": "code",
   "execution_count": 10,
   "metadata": {},
   "outputs": [
    {
     "name": "stdout",
     "output_type": "stream",
     "text": [
      "p\\y\\tho\\n\n"
     ]
    }
   ],
   "source": [
    "s = r\"p\\y\\tho\\n\"\n",
    "print(s)"
   ]
  },
  {
   "cell_type": "code",
   "execution_count": 13,
   "metadata": {},
   "outputs": [
    {
     "name": "stdout",
     "output_type": "stream",
     "text": [
      "python\\\n"
     ]
    }
   ],
   "source": [
    "# 在字符串中打印\\\n",
    "s = \"python\\\\\"\n",
    "print(s)"
   ]
  },
  {
   "cell_type": "code",
   "execution_count": 11,
   "metadata": {},
   "outputs": [
    {
     "name": "stdout",
     "output_type": "stream",
     "text": [
      "helloworld\n"
     ]
    }
   ],
   "source": [
    "# 加法运算，拼接字符串\n",
    "a = \"hello\"\n",
    "b = \"world\"\n",
    "print(a+b)"
   ]
  },
  {
   "cell_type": "code",
   "execution_count": 12,
   "metadata": {},
   "outputs": [
    {
     "name": "stdout",
     "output_type": "stream",
     "text": [
      "hellohello\n"
     ]
    }
   ],
   "source": [
    "# 乘法运算，字符串重复\n",
    "a = \"hello\"\n",
    "b = 2\n",
    "print(a*b)"
   ]
  },
  {
   "cell_type": "code",
   "execution_count": 16,
   "metadata": {},
   "outputs": [
    {
     "data": {
      "text/plain": [
       "['pyt', 'on']"
      ]
     },
     "execution_count": 16,
     "metadata": {},
     "output_type": "execute_result"
    }
   ],
   "source": [
    "# 切割\n",
    "# str.split(str1)：以为str1为分隔符对字符串切割\n",
    "s = \"python\"\n",
    "s.split('h')"
   ]
  },
  {
   "cell_type": "code",
   "execution_count": 17,
   "metadata": {},
   "outputs": [
    {
     "data": {
      "text/plain": [
       "'python'"
      ]
     },
     "execution_count": 17,
     "metadata": {},
     "output_type": "execute_result"
    }
   ],
   "source": [
    "s"
   ]
  },
  {
   "cell_type": "code",
   "execution_count": 18,
   "metadata": {},
   "outputs": [
    {
     "data": {
      "text/plain": [
       "'PYthon'"
      ]
     },
     "execution_count": 18,
     "metadata": {},
     "output_type": "execute_result"
    }
   ],
   "source": [
    "# 替换\n",
    "# str.replace(str1,str2)：将字符串中的str1替换为str2生成新的字符串\n",
    "s = 'python'\n",
    "s.replace('py','PY')"
   ]
  },
  {
   "cell_type": "code",
   "execution_count": 19,
   "metadata": {},
   "outputs": [
    {
     "data": {
      "text/plain": [
       "'python'"
      ]
     },
     "execution_count": 19,
     "metadata": {},
     "output_type": "execute_result"
    }
   ],
   "source": [
    "s"
   ]
  },
  {
   "cell_type": "code",
   "execution_count": 21,
   "metadata": {},
   "outputs": [
    {
     "name": "stdout",
     "output_type": "stream",
     "text": [
      "python\n",
      "PYTHON\n"
     ]
    }
   ],
   "source": [
    "# 大小写转换\n",
    "# str.lower()：将字符串中的大写字符转化为小写\n",
    "# str.upper()：将字符串中小写字符转化为大写\n",
    "s = \"PYthon\"\n",
    "print(s.lower())\n",
    "print(s.upper())"
   ]
  },
  {
   "cell_type": "code",
   "execution_count": 23,
   "metadata": {},
   "outputs": [
    {
     "data": {
      "text/plain": [
       "'p*y*t*h*o*n'"
      ]
     },
     "execution_count": 23,
     "metadata": {},
     "output_type": "execute_result"
    }
   ],
   "source": [
    "# 拼接\n",
    "# str.join(iter)：将所给参数中的每个元素以指定的字符连接生成一个新的字符串\n",
    "\"*\".join(\"python\")"
   ]
  },
  {
   "cell_type": "code",
   "execution_count": 25,
   "metadata": {},
   "outputs": [
    {
     "data": {
      "text/plain": [
       "'My name is AI ，age is 63'"
      ]
     },
     "execution_count": 25,
     "metadata": {},
     "output_type": "execute_result"
    }
   ],
   "source": [
    "# 格式化操作符（百分号%）、字符串转换类型和格式化操作符辅助指令实现格式化输出\n",
    "'My name is %s ，age is %d' %('AI', 63)"
   ]
  },
  {
   "cell_type": "code",
   "execution_count": 27,
   "metadata": {},
   "outputs": [
    {
     "name": "stdout",
     "output_type": "stream",
     "text": [
      "[1, 2, 3, 1, 2, 3]\n",
      "[1, 2, 3, 4, 5]\n"
     ]
    }
   ],
   "source": [
    "a = [1,2,3]\n",
    "b = [4,5]\n",
    "# 乘法\n",
    "print(a*2)\n",
    "# 加法\n",
    "print(a+b)"
   ]
  },
  {
   "cell_type": "code",
   "execution_count": 31,
   "metadata": {},
   "outputs": [
    {
     "name": "stdout",
     "output_type": "stream",
     "text": [
      "['cat', 'fish', 'dog', 'monkey', 'fish']\n"
     ]
    }
   ],
   "source": [
    "animals = ['cat','fish', 'dog', 'monkey']\n",
    "# list.append(obj)：在列表末尾添加新的对象。\n",
    "animals.append('fish')# 追加元素\n",
    "print(animals)"
   ]
  },
  {
   "cell_type": "code",
   "execution_count": 32,
   "metadata": {},
   "outputs": [
    {
     "name": "stdout",
     "output_type": "stream",
     "text": [
      "['cat', 'dog', 'monkey', 'fish']\n"
     ]
    }
   ],
   "source": [
    "# list.remove(obj)：移除列表中某个值的第一个匹配项。\n",
    "animals.remove('fish')# 删除元素fish\n",
    "print(animals)"
   ]
  },
  {
   "cell_type": "code",
   "execution_count": 34,
   "metadata": {},
   "outputs": [
    {
     "name": "stdout",
     "output_type": "stream",
     "text": [
      "['cat', 'fish', 'dog', 'monkey', 'fish']\n"
     ]
    }
   ],
   "source": [
    "# list.insert(index, obj)：用于将指定对象插入列表的指定位置。index：插入位置\n",
    "animals.insert(1,'fish') # 在下标1的地方插入元素fish\n",
    "print(animals)"
   ]
  },
  {
   "cell_type": "code",
   "execution_count": 35,
   "metadata": {},
   "outputs": [
    {
     "name": "stdout",
     "output_type": "stream",
     "text": [
      "['cat', 'dog', 'monkey', 'fish']\n"
     ]
    }
   ],
   "source": [
    "# list.pop([index=-1])：要移除列表中对下标对应的元素（默认是最后一个）。Index：下标\n",
    "animals.pop(1) # 删除下标为1的元素\n",
    "print(animals)"
   ]
  },
  {
   "cell_type": "code",
   "execution_count": 37,
   "metadata": {
    "scrolled": true
   },
   "outputs": [
    {
     "name": "stdout",
     "output_type": "stream",
     "text": [
      "(0, 'cat')\n",
      "(1, 'dog')\n",
      "(2, 'monkey')\n",
      "(3, 'fish')\n"
     ]
    }
   ],
   "source": [
    "#遍历并获取元素和对应索引\n",
    "# enumerate(sequence) ：将一个可遍历的数据对象组合为一个索引序列，同时列出数据和数据下标，一般用在 for 循环当中。\n",
    "for i in enumerate(animals):\n",
    "    print(i)"
   ]
  },
  {
   "cell_type": "code",
   "execution_count": 38,
   "metadata": {},
   "outputs": [
    {
     "name": "stdout",
     "output_type": "stream",
     "text": [
      "['catcat', 'dogdog', 'monkeymonkey', 'fishfish']\n"
     ]
    }
   ],
   "source": [
    "#列表推导式\n",
    "squares = [x*2 for x in animals] # 批量生成符合规则的元素组成的列表\n",
    "print(squares)"
   ]
  },
  {
   "cell_type": "code",
   "execution_count": 40,
   "metadata": {},
   "outputs": [
    {
     "name": "stdout",
     "output_type": "stream",
     "text": [
      "[12, 32, 45, 55]\n"
     ]
    }
   ],
   "source": [
    "list1 = [12,45,32,55]\n",
    "# list.sort(cmp=None, key=None, reverse=False)：cmp为可选参数, 如果指定了该参数，会使用该参数的方法进行排序。key是用来进行比较的元素。reverse为排序规则，False为升序。\n",
    "list1.sort() # 对列表进行排序\n",
    "print(list1) # 输出[12,32,45,55]"
   ]
  },
  {
   "cell_type": "code",
   "execution_count": 41,
   "metadata": {},
   "outputs": [
    {
     "name": "stdout",
     "output_type": "stream",
     "text": [
      "[55, 45, 32, 12]\n"
     ]
    }
   ],
   "source": [
    "# list.reverse()：反向列表中元素。\n",
    "list1.reverse() # 对列表进行逆置\n",
    "print(list1) # 输出[55,45,32,12]"
   ]
  },
  {
   "cell_type": "code",
   "execution_count": 42,
   "metadata": {},
   "outputs": [
    {
     "data": {
      "text/plain": [
       "4"
      ]
     },
     "execution_count": 42,
     "metadata": {},
     "output_type": "execute_result"
    }
   ],
   "source": [
    "# 索引\n",
    "l = [1,2,3,[4,5]]\n",
    "l[3][0] # 索引的访问从0到n-1 ，所有有序序列都能使用"
   ]
  },
  {
   "cell_type": "code",
   "execution_count": 43,
   "metadata": {},
   "outputs": [
    {
     "data": {
      "text/plain": [
       "[0, 1, 2, 3, 4, 5]"
      ]
     },
     "execution_count": 43,
     "metadata": {},
     "output_type": "execute_result"
    }
   ],
   "source": [
    "# 切片\n",
    "# list[start:end:step],start为0时可以省略，end为n-1时可以省略，step为1时可以省略\n",
    "l = [0,1,2,3,4,5]\n",
    "l[::]"
   ]
  },
  {
   "cell_type": "code",
   "execution_count": 49,
   "metadata": {},
   "outputs": [
    {
     "data": {
      "text/plain": [
       "[0, 2, 4]"
      ]
     },
     "execution_count": 49,
     "metadata": {},
     "output_type": "execute_result"
    }
   ],
   "source": [
    "l[:-1:2]"
   ]
  },
  {
   "cell_type": "code",
   "execution_count": 45,
   "metadata": {},
   "outputs": [
    {
     "name": "stdout",
     "output_type": "stream",
     "text": [
      "(1, [1, 2], 'python')\n",
      "<class 'tuple'>\n"
     ]
    }
   ],
   "source": [
    "# 创建元组\n",
    "t = (1,[1,2],\"python\")\n",
    "print(t)\n",
    "print(type(t))"
   ]
  },
  {
   "cell_type": "code",
   "execution_count": 46,
   "metadata": {},
   "outputs": [
    {
     "name": "stdout",
     "output_type": "stream",
     "text": [
      "t1 <class 'int'>\n",
      "t2 <class 'tuple'>\n"
     ]
    }
   ],
   "source": [
    "# 创建单个元素的元组\n",
    "t1 = (5)\n",
    "t2 = (5,) # 创建单个元素的元组需要使用“，”来标明是元组\n",
    "print(\"t1\",type(t1))\n",
    "print(\"t2\",type(t2))"
   ]
  },
  {
   "cell_type": "code",
   "execution_count": 50,
   "metadata": {},
   "outputs": [
    {
     "data": {
      "text/plain": [
       "(1, 2, [3, 5])"
      ]
     },
     "execution_count": 50,
     "metadata": {},
     "output_type": "execute_result"
    }
   ],
   "source": [
    "# 变相的修改元组数据\n",
    "t = (1,2,[3,4]) # 不推荐这样使用\n",
    "t[2][1] = 5\n",
    "t"
   ]
  },
  {
   "cell_type": "code",
   "execution_count": 53,
   "metadata": {},
   "outputs": [
    {
     "name": "stdout",
     "output_type": "stream",
     "text": [
      "2\n"
     ]
    },
    {
     "ename": "TypeError",
     "evalue": "'tuple' object does not support item assignment",
     "output_type": "error",
     "traceback": [
      "\u001b[1;31m---------------------------------------------------------------------------\u001b[0m",
      "\u001b[1;31mTypeError\u001b[0m                                 Traceback (most recent call last)",
      "\u001b[1;32m<ipython-input-53-26456a6275b9>\u001b[0m in \u001b[0;36m<module>\u001b[1;34m\u001b[0m\n\u001b[0;32m      2\u001b[0m \u001b[0mprint\u001b[0m\u001b[1;33m(\u001b[0m\u001b[0mt\u001b[0m\u001b[1;33m[\u001b[0m\u001b[1;36m1\u001b[0m\u001b[1;33m]\u001b[0m\u001b[1;33m)\u001b[0m\u001b[1;33m\u001b[0m\u001b[1;33m\u001b[0m\u001b[0m\n\u001b[0;32m      3\u001b[0m \u001b[1;31m# 元组不可变，修改数据会报错\u001b[0m\u001b[1;33m\u001b[0m\u001b[1;33m\u001b[0m\u001b[1;33m\u001b[0m\u001b[0m\n\u001b[1;32m----> 4\u001b[1;33m \u001b[0mt\u001b[0m\u001b[1;33m[\u001b[0m\u001b[1;36m1\u001b[0m\u001b[1;33m]\u001b[0m \u001b[1;33m=\u001b[0m \u001b[1;36m0\u001b[0m\u001b[1;33m\u001b[0m\u001b[1;33m\u001b[0m\u001b[0m\n\u001b[0m",
      "\u001b[1;31mTypeError\u001b[0m: 'tuple' object does not support item assignment"
     ]
    }
   ],
   "source": [
    "t = (1,2,3)\n",
    "print(t[1])\n",
    "# 元组不可变，修改数据会报错\n",
    "t[1] = 0"
   ]
  },
  {
   "cell_type": "code",
   "execution_count": 55,
   "metadata": {},
   "outputs": [
    {
     "name": "stdout",
     "output_type": "stream",
     "text": [
      "{'food': 'Spam', 'quantity': 4, 'color': 'pink'}\n",
      "{'food': 'Spam', 'quantity': 4, 'color': 'pink'}\n",
      "{'food': 'Spam', 'quantity': 4, 'color': 'pink'}\n"
     ]
    }
   ],
   "source": [
    "# 字典的三种赋值操作\n",
    "x = {'food':'Spam','quantity':4,'color':'pink'}\n",
    "x2 =dict(food='Spam',quantity=4, color='pink')\n",
    "x3 = dict([(\"food\", \"Spam\"),(\"quantity\", 4),(\"color\",\"pink\")])\n",
    "print(x)\n",
    "print(x2)\n",
    "print(x3)"
   ]
  },
  {
   "cell_type": "code",
   "execution_count": 56,
   "metadata": {},
   "outputs": [
    {
     "name": "stdout",
     "output_type": "stream",
     "text": [
      "Spam\n"
     ]
    },
    {
     "ename": "KeyError",
     "evalue": "'x'",
     "output_type": "error",
     "traceback": [
      "\u001b[1;31m---------------------------------------------------------------------------\u001b[0m",
      "\u001b[1;31mKeyError\u001b[0m                                  Traceback (most recent call last)",
      "\u001b[1;32m<ipython-input-56-fbbd3c5dc2a3>\u001b[0m in \u001b[0;36m<module>\u001b[1;34m\u001b[0m\n\u001b[0;32m      1\u001b[0m \u001b[1;31m# 使用键获取值\u001b[0m\u001b[1;33m\u001b[0m\u001b[1;33m\u001b[0m\u001b[1;33m\u001b[0m\u001b[0m\n\u001b[0;32m      2\u001b[0m \u001b[0mprint\u001b[0m\u001b[1;33m(\u001b[0m\u001b[0mx\u001b[0m\u001b[1;33m[\u001b[0m\u001b[1;34m\"food\"\u001b[0m\u001b[1;33m]\u001b[0m\u001b[1;33m)\u001b[0m\u001b[1;33m\u001b[0m\u001b[1;33m\u001b[0m\u001b[0m\n\u001b[1;32m----> 3\u001b[1;33m \u001b[0mprint\u001b[0m\u001b[1;33m(\u001b[0m\u001b[0mx\u001b[0m\u001b[1;33m[\u001b[0m\u001b[1;34m\"x\"\u001b[0m\u001b[1;33m]\u001b[0m\u001b[1;33m)\u001b[0m \u001b[1;31m# 如果访问不存在的键，会报错\u001b[0m\u001b[1;33m\u001b[0m\u001b[1;33m\u001b[0m\u001b[0m\n\u001b[0m",
      "\u001b[1;31mKeyError\u001b[0m: 'x'"
     ]
    }
   ],
   "source": [
    "# 使用键获取值\n",
    "print(x[\"food\"])\n",
    "print(x[\"x\"]) # 如果访问不存在的键，会报错"
   ]
  },
  {
   "cell_type": "code",
   "execution_count": 57,
   "metadata": {},
   "outputs": [
    {
     "name": "stdout",
     "output_type": "stream",
     "text": [
      "Spam\n",
      "None\n",
      "x不存在\n"
     ]
    }
   ],
   "source": [
    "# 使用get(key,[\"str\"])方法获取数据\n",
    "print(x.get(\"food\"))\n",
    "print(x.get(\"x\")) # 使用get方法获取数据时，如果键不存在会返回指定的值str\n",
    "print(x.get(\"x\",\"x不存在\"))"
   ]
  },
  {
   "cell_type": "code",
   "execution_count": 58,
   "metadata": {},
   "outputs": [
    {
     "name": "stdout",
     "output_type": "stream",
     "text": [
      "dict_keys(['food', 'quantity', 'color'])\n",
      "dict_values(['Spam', 4, 'pink'])\n",
      "dict_items([('food', 'Spam'), ('quantity', 4), ('color', 'pink')])\n"
     ]
    }
   ],
   "source": [
    "# 查看所有的键\n",
    "print(x.keys())\n",
    "# 查看所有的值\n",
    "print(x.values())\n",
    "# 查看所有的键值对\n",
    "print(x.items())"
   ]
  },
  {
   "cell_type": "code",
   "execution_count": 59,
   "metadata": {},
   "outputs": [
    {
     "name": "stdout",
     "output_type": "stream",
     "text": [
      "{'food': 'Spam', 'quantity': 4, 'color': 'pink', 'x': 'x'}\n"
     ]
    }
   ],
   "source": [
    "# 向字典中插入数据\n",
    "x[\"x\"] = \"x\"\n",
    "print(x)"
   ]
  },
  {
   "cell_type": "code",
   "execution_count": 60,
   "metadata": {},
   "outputs": [
    {
     "name": "stdout",
     "output_type": "stream",
     "text": [
      "{'food': 'Spam', 'quantity': 4, 'color': 'pink', 'x': 0}\n"
     ]
    }
   ],
   "source": [
    "# 修改字典中的数据\n",
    "x[\"x\"] = 0\n",
    "print(x)"
   ]
  },
  {
   "cell_type": "code",
   "execution_count": 61,
   "metadata": {},
   "outputs": [
    {
     "name": "stdout",
     "output_type": "stream",
     "text": [
      "False\n"
     ]
    }
   ],
   "source": [
    "sample_set = {'Prince', 'Techs'}\n",
    "print('Data' in sample_set) #in的作用是检查集合中是否存在某一元素"
   ]
  },
  {
   "cell_type": "code",
   "execution_count": 62,
   "metadata": {},
   "outputs": [
    {
     "name": "stdout",
     "output_type": "stream",
     "text": [
      "{'Prince', 'Techs', 'Data'}\n",
      "3\n"
     ]
    }
   ],
   "source": [
    "# set.add(obj)：给集合添加元素，如果添加的元素在集合中已存在，则不执行任何操作。\n",
    "sample_set.add('Data')\n",
    "print(sample_set)\n",
    "print(len(sample_set))"
   ]
  },
  {
   "cell_type": "code",
   "execution_count": 63,
   "metadata": {},
   "outputs": [
    {
     "name": "stdout",
     "output_type": "stream",
     "text": [
      "{'Prince', 'Techs'}\n"
     ]
    }
   ],
   "source": [
    "# set.remove(obj)：移除集合中的指定元素。\n",
    "sample_set.remove('Data') # 删除元素Data\n",
    "print(sample_set)"
   ]
  },
  {
   "cell_type": "code",
   "execution_count": 64,
   "metadata": {},
   "outputs": [
    {
     "name": "stdout",
     "output_type": "stream",
     "text": [
      "[1, 3, 5]\n"
     ]
    }
   ],
   "source": [
    "list2 = [1,3,1,5,3]\n",
    "print(list(set(list2)))# 利用集合元素的唯一性进行列表去重\n",
    "sample_set = frozenset(sample_set)# 不可变集合"
   ]
  },
  {
   "cell_type": "code",
   "execution_count": 72,
   "metadata": {},
   "outputs": [],
   "source": [
    "# 嵌套数据赋值\n",
    "a = [1,2,3,[4,5]]\n",
    "b = a # 赋值\n",
    "c = a.copy() # 浅拷贝\n",
    "import copy\n",
    "d = copy.deepcopy(a) # 深拷贝"
   ]
  },
  {
   "cell_type": "code",
   "execution_count": 73,
   "metadata": {},
   "outputs": [
    {
     "name": "stdout",
     "output_type": "stream",
     "text": [
      "a: [6, 2, 3, [4, 5]]\n",
      "b: [6, 2, 3, [4, 5]]\n",
      "c: [1, 2, 3, [4, 5]]\n",
      "d: [1, 2, 3, [4, 5]]\n"
     ]
    }
   ],
   "source": [
    "a[0] = 6 # 修改a的值\n",
    "print(\"a:\",a)\n",
    "print(\"b:\",b)\n",
    "print(\"c:\",c)\n",
    "print(\"d:\",d)"
   ]
  },
  {
   "cell_type": "code",
   "execution_count": 67,
   "metadata": {},
   "outputs": [
    {
     "name": "stdout",
     "output_type": "stream",
     "text": [
      "a: [6, 2, 3, [7, 5]]\n",
      "b: [6, 2, 3, [7, 5]]\n",
      "c: [1, 2, 3, [7, 5]]\n",
      "d: [1, 2, 3, [4, 5]]\n"
     ]
    }
   ],
   "source": [
    "# 修改嵌套列表的值\n",
    "a[3][0] = 7\n",
    "print(\"a:\",a)\n",
    "print(\"b:\",b)\n",
    "print(\"c:\",c)\n",
    "print(\"d:\",d)"
   ]
  },
  {
   "cell_type": "code",
   "execution_count": 75,
   "metadata": {},
   "outputs": [
    {
     "name": "stdout",
     "output_type": "stream",
     "text": [
      "a+=1: 6\n",
      "a-=1: 5\n",
      "a*=2: 10\n",
      "a/=2: 5.0\n"
     ]
    }
   ],
   "source": [
    "# 赋值运算符\n",
    "a=5\n",
    "a+=1\n",
    "print(\"a+=1:\",a)\n",
    "a-=1\n",
    "print(\"a-=1:\",a)\n",
    "a*=2\n",
    "print(\"a*=2:\",a)\n",
    "a/=2\n",
    "print(\"a/=2:\",a)"
   ]
  },
  {
   "cell_type": "code",
   "execution_count": 76,
   "metadata": {},
   "outputs": [
    {
     "name": "stdout",
     "output_type": "stream",
     "text": [
      "False\n",
      "True\n",
      "True\n",
      "False\n"
     ]
    }
   ],
   "source": [
    "# 比较运算符\n",
    "print(1>=2)\n",
    "print(1<=2)\n",
    "print(1!=2)\n",
    "print(1==2)"
   ]
  },
  {
   "cell_type": "code",
   "execution_count": 77,
   "metadata": {},
   "outputs": [
    {
     "data": {
      "text/plain": [
       "False"
      ]
     },
     "execution_count": 77,
     "metadata": {},
     "output_type": "execute_result"
    }
   ],
   "source": [
    "# 逻辑运算\n",
    "True and False"
   ]
  },
  {
   "cell_type": "code",
   "execution_count": 78,
   "metadata": {},
   "outputs": [
    {
     "data": {
      "text/plain": [
       "True"
      ]
     },
     "execution_count": 78,
     "metadata": {},
     "output_type": "execute_result"
    }
   ],
   "source": [
    "True or False"
   ]
  },
  {
   "cell_type": "code",
   "execution_count": 79,
   "metadata": {},
   "outputs": [
    {
     "data": {
      "text/plain": [
       "False"
      ]
     },
     "execution_count": 79,
     "metadata": {},
     "output_type": "execute_result"
    }
   ],
   "source": [
    "not True"
   ]
  },
  {
   "cell_type": "code",
   "execution_count": 80,
   "metadata": {},
   "outputs": [
    {
     "data": {
      "text/plain": [
       "True"
      ]
     },
     "execution_count": 80,
     "metadata": {},
     "output_type": "execute_result"
    }
   ],
   "source": [
    "# 成员运算符\n",
    "a = [1,2,3]\n",
    "1 in a"
   ]
  },
  {
   "cell_type": "code",
   "execution_count": 81,
   "metadata": {},
   "outputs": [
    {
     "data": {
      "text/plain": [
       "True"
      ]
     },
     "execution_count": 81,
     "metadata": {},
     "output_type": "execute_result"
    }
   ],
   "source": [
    "4 not in a"
   ]
  },
  {
   "cell_type": "code",
   "execution_count": 82,
   "metadata": {},
   "outputs": [],
   "source": [
    "# 身份运算符\n",
    "a = [1,2]\n",
    "b = a\n",
    "c = a.copy()"
   ]
  },
  {
   "cell_type": "code",
   "execution_count": 83,
   "metadata": {},
   "outputs": [
    {
     "name": "stdout",
     "output_type": "stream",
     "text": [
      "True\n",
      "False\n",
      "True\n"
     ]
    }
   ],
   "source": [
    "print(a is b)\n",
    "print(a is c)\n",
    "print(a == b == c)"
   ]
  },
  {
   "cell_type": "code",
   "execution_count": 84,
   "metadata": {},
   "outputs": [],
   "source": [
    "t=(1,2,3,4,5,6,7)"
   ]
  },
  {
   "cell_type": "code",
   "execution_count": 85,
   "metadata": {},
   "outputs": [
    {
     "data": {
      "text/plain": [
       "(2, 4, 6)"
      ]
     },
     "execution_count": 85,
     "metadata": {},
     "output_type": "execute_result"
    }
   ],
   "source": [
    "t[1:6:2]"
   ]
  },
  {
   "cell_type": "code",
   "execution_count": 86,
   "metadata": {},
   "outputs": [
    {
     "data": {
      "text/plain": [
       "()"
      ]
     },
     "execution_count": 86,
     "metadata": {},
     "output_type": "execute_result"
    }
   ],
   "source": [
    "t[1:-1:-2]"
   ]
  },
  {
   "cell_type": "code",
   "execution_count": 87,
   "metadata": {},
   "outputs": [
    {
     "data": {
      "text/plain": [
       "()"
      ]
     },
     "execution_count": 87,
     "metadata": {},
     "output_type": "execute_result"
    }
   ],
   "source": [
    "t[-1:1:2]"
   ]
  },
  {
   "cell_type": "code",
   "execution_count": 88,
   "metadata": {},
   "outputs": [
    {
     "data": {
      "text/plain": [
       "(6, 4, 2)"
      ]
     },
     "execution_count": 88,
     "metadata": {},
     "output_type": "execute_result"
    }
   ],
   "source": [
    "t[-2:0:-2]"
   ]
  },
  {
   "cell_type": "code",
   "execution_count": null,
   "metadata": {},
   "outputs": [],
   "source": []
  }
 ],
 "metadata": {
  "kernelspec": {
   "display_name": "Python 3",
   "language": "python",
   "name": "python3"
  },
  "language_info": {
   "codemirror_mode": {
    "name": "ipython",
    "version": 3
   },
   "file_extension": ".py",
   "mimetype": "text/x-python",
   "name": "python",
   "nbconvert_exporter": "python",
   "pygments_lexer": "ipython3",
   "version": "3.7.6"
  }
 },
 "nbformat": 4,
 "nbformat_minor": 4
}
