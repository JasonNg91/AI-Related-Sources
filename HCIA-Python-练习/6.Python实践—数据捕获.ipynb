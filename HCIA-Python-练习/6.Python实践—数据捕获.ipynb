{
 "cells": [
  {
   "cell_type": "code",
   "execution_count": 1,
   "metadata": {},
   "outputs": [
    {
     "data": {
      "text/plain": [
       "'https://api.inews.qq.com/newsqa/v1/automation/foreign/daily/list?country=意大利&'"
      ]
     },
     "execution_count": 1,
     "metadata": {},
     "output_type": "execute_result"
    }
   ],
   "source": [
    "# 解析url\n",
    "from urllib import parse # urllib为Python中用于处理http请求，parse子模块用于处理url\n",
    "# 使用unquote方法解析url\n",
    "URL = \"https://api.inews.qq.com/newsqa/v1/automation/foreign/daily/list?country=%E6%84%8F%E5%A4%A7%E5%88%A9&\"\n",
    "parse.unquote(URL)"
   ]
  },
  {
   "cell_type": "code",
   "execution_count": 2,
   "metadata": {},
   "outputs": [
    {
     "name": "stdout",
     "output_type": "stream",
     "text": [
      "请输入查询国家：美国\n",
      "https://api.inews.qq.com/newsqa/v1/query/pubished/daily/list?country=%E7%BE%8E%E5%9B%BD&\n"
     ]
    }
   ],
   "source": [
    "URL = \"https://api.inews.qq.com/newsqa/v1/query/pubished/daily/list?country=%s&\"\n",
    "country = input(\"请输入查询国家：\")\n",
    "print(URL%(parse.quote(country)))"
   ]
  },
  {
   "cell_type": "code",
   "execution_count": 3,
   "metadata": {},
   "outputs": [],
   "source": [
    "import requests\n",
    "URL = \"https://api.inews.qq.com/newsqa/v1/query/pubished/daily/list?country=%s&\"\n",
    "headers = {\n",
    "    \"Referer\": \"Referer: https://news.qq.com/zt2020/page/feiyan.html\",\n",
    "    \"Host\": \"api.inews.qq.com\",\n",
    "    \"Origin\": \"https://news.qq.com\",\n",
    "    \"User-Agent\": \"Mozilla/5.0 (Windows NT 10.0; Win64; x64) AppleWebKit/537.36 (KHTML, like Gecko) Chrome/80.0.3987.149 Safari/537.36\"\n",
    "} # 浏览器在发送请求时会携带一些信息，为了达到模拟浏览器的目的，爬虫也需要加入这些信息进行伪装，可以直接将浏览器中对应信息直接粘贴过来"
   ]
  },
  {
   "cell_type": "code",
   "execution_count": 8,
   "metadata": {},
   "outputs": [
    {
     "name": "stdout",
     "output_type": "stream",
     "text": [
      "请输入查询国家：美国\n",
      "{\"ret\":0,\"info\":\"\",\"data\":[{\"date\":\"01.28\",\"confirm_add\":0,\"confirm\":5,\"heal\":0,\"dead\":0,\"suspect\":0},{\"date\":\"01.29\",\"confirm_add\":0,\"confirm\":5,\"heal\":0,\"dead\":0,\"suspect\":0},{\"date\":\"01.30\",\"confirm_add\":0,\"confirm\":6,\"heal\":0,\"dead\":0,\"suspect\":0},{\"date\":\"01.31\",\"confirm_add\":1,\"confirm\":6,\"heal\":0,\"dead\":0,\"suspect\":0},{\"date\":\"02.01\",\"confirm_add\":1,\"confirm\":7,\"heal\":0,\"dead\":0,\"suspect\":0},{\"date\":\"02.02\",\"confirm_add\":1,\"confirm\":8,\"heal\":0,\"dead\":0,\"suspect\":0},{\"date\":\"02.03\",\"confirm_add\":3,\"confirm\":11,\"heal\":1,\"dead\":0,\"suspect\":0},{\"date\":\"02.04\",\"confirm_add\":0,\"confirm\":11,\"heal\":1,\"dead\":0,\"suspect\":0},{\"date\":\"02.05\",\"confirm_add\":0,\"confirm\":11,\"heal\":1,\"dead\":0,\"suspect\":0},{\"date\":\"02.06\",\"confirm_add\":1,\"confirm\":12,\"heal\":1,\"dead\":0,\"suspect\":0},{\"date\":\"02.07\",\"confirm_add\":0,\"confirm\":12,\"heal\":1,\"dead\":0,\"suspect\":0},{\"date\":\"02.08\",\"confirm_add\":0,\"confirm\":12,\"heal\":1,\"dead\":0,\"suspect\":0},{\"date\":\"02.09\",\"confirm_add\":0,\"confirm\":12,\"heal\":1,\"dead\":0,\"suspect\":0},{\"date\":\"02.10\",\"confirm_add\":0,\"confirm\":12,\"heal\":1,\"dead\":0,\"suspect\":0},{\"date\":\"02.11\",\"confirm_add\":1,\"confirm\":13,\"heal\":1,\"dead\":0,\"suspect\":0},{\"date\":\"02.12\",\"confirm_add\":0,\"confirm\":13,\"heal\":3,\"dead\":0,\"suspect\":0},{\"date\":\"02.13\",\"confirm_add\":1,\"confirm\":14,\"heal\":3,\"dead\":0,\"suspect\":0},{\"date\":\"02.14\",\"confirm_add\":1,\"confirm\":15,\"heal\":3,\"dead\":0,\"suspect\":0},{\"date\":\"02.15\",\"confirm_add\":0,\"confirm\":15,\"heal\":3,\"dead\":0,\"suspect\":0},{\"date\":\"02.16\",\"confirm_add\":0,\"confirm\":15,\"heal\":3,\"dead\":0,\"suspect\":0},{\"date\":\"02.17\",\"confirm_add\":0,\"confirm\":15,\"heal\":3,\"dead\":0,\"suspect\":0},{\"date\":\"02.18\",\"confirm_add\":0,\"confirm\":15,\"heal\":3,\"dead\":0,\"suspect\":0},{\"date\":\"02.19\",\"confirm_add\":0,\"confirm\":15,\"heal\":3,\"dead\":0,\"suspect\":0},{\"date\":\"02.20\",\"confirm_add\":0,\"confirm\":15,\"heal\":3,\"dead\":0,\"suspect\":0},{\"date\":\"02.21\",\"confirm_add\":0,\"confirm\":15,\"heal\":3,\"dead\":0,\"suspect\":0},{\"date\":\"02.22\",\"confirm_add\":0,\"confirm\":34,\"heal\":3,\"dead\":0,\"suspect\":0},{\"date\":\"02.23\",\"confirm_add\":19,\"confirm\":34,\"heal\":3,\"dead\":0,\"suspect\":0},{\"date\":\"02.24\",\"confirm_add\":0,\"confirm\":35,\"heal\":3,\"dead\":0,\"suspect\":0},{\"date\":\"02.25\",\"confirm_add\":1,\"confirm\":53,\"heal\":3,\"dead\":0,\"suspect\":0},{\"date\":\"02.26\",\"confirm_add\":18,\"confirm\":57,\"heal\":3,\"dead\":0,\"suspect\":0},{\"date\":\"02.27\",\"confirm_add\":4,\"confirm\":60,\"heal\":3,\"dead\":0,\"suspect\":0},{\"date\":\"02.28\",\"confirm_add\":3,\"confirm\":60,\"heal\":3,\"dead\":0,\"suspect\":0},{\"date\":\"02.29\",\"confirm_add\":0,\"confirm\":64,\"heal\":3,\"dead\":0,\"suspect\":0},{\"date\":\"03.01\",\"confirm_add\":4,\"confirm\":69,\"heal\":3,\"dead\":1,\"suspect\":0},{\"date\":\"03.02\",\"confirm_add\":5,\"confirm\":89,\"heal\":3,\"dead\":2,\"suspect\":0},{\"date\":\"03.03\",\"confirm_add\":20,\"confirm\":105,\"heal\":3,\"dead\":6,\"suspect\":0},{\"date\":\"03.04\",\"confirm_add\":19,\"confirm\":126,\"heal\":3,\"dead\":9,\"suspect\":0},{\"date\":\"03.05\",\"confirm_add\":18,\"confirm\":161,\"heal\":8,\"dead\":11,\"suspect\":0},{\"date\":\"03.06\",\"confirm_add\":35,\"confirm\":234,\"heal\":8,\"dead\":14,\"suspect\":0},{\"date\":\"03.07\",\"confirm_add\":73,\"confirm\":337,\"heal\":10,\"dead\":17,\"suspect\":0},{\"date\":\"03.08\",\"confirm_add\":103,\"confirm\":455,\"heal\":10,\"dead\":19,\"suspect\":0},{\"date\":\"03.09\",\"confirm_add\":118,\"confirm\":582,\"heal\":10,\"dead\":22,\"suspect\":0},{\"date\":\"03.10\",\"confirm_add\":127,\"confirm\":755,\"heal\":10,\"dead\":26,\"suspect\":0},{\"date\":\"03.11\",\"confirm_add\":224,\"confirm\":1052,\"heal\":15,\"dead\":31,\"suspect\":0},{\"date\":\"03.12\",\"confirm_add\":291,\"confirm\":1329,\"heal\":15,\"dead\":38,\"suspect\":0},{\"date\":\"03.13\",\"confirm_add\":277,\"confirm\":1880,\"heal\":31,\"dead\":41,\"suspect\":0},{\"date\":\"03.14\",\"confirm_add\":414,\"confirm\":2236,\"heal\":31,\"dead\":49,\"suspect\":0},{\"date\":\"03.15\",\"confirm_add\":558,\"confirm\":2943,\"heal\":48,\"dead\":60,\"suspect\":0},{\"date\":\"03.16\",\"confirm_add\":707,\"confirm\":3774,\"heal\":73,\"dead\":69,\"suspect\":0},{\"date\":\"03.17\",\"confirm_add\":831,\"confirm\":4687,\"heal\":74,\"dead\":93,\"suspect\":0},{\"date\":\"03.18\",\"confirm_add\":1822,\"confirm\":6522,\"heal\":106,\"dead\":116,\"suspect\":0},{\"date\":\"03.19\",\"confirm_add\":3551,\"confirm\":10259,\"heal\":106,\"dead\":152,\"suspect\":0},{\"date\":\"03.20\",\"confirm_add\":3355,\"confirm\":14365,\"heal\":125,\"dead\":212,\"suspect\":0},{\"date\":\"03.21\",\"confirm_add\":4777,\"confirm\":20176,\"heal\":147,\"dead\":277,\"suspect\":0},{\"date\":\"03.22\",\"confirm_add\":6680,\"confirm\":26856,\"heal\":178,\"dead\":346,\"suspect\":0},{\"date\":\"03.23\",\"confirm_add\":8355,\"confirm\":35224,\"heal\":178,\"dead\":471,\"suspect\":0},{\"date\":\"03.24\",\"confirm_add\":10591,\"confirm\":46443,\"heal\":314,\"dead\":586,\"suspect\":0},{\"date\":\"03.25\",\"confirm_add\":9750,\"confirm\":55242,\"heal\":354,\"dead\":801,\"suspect\":0},{\"date\":\"03.26\",\"confirm_add\":11656,\"confirm\":69223,\"heal\":619,\"dead\":1054,\"suspect\":0},{\"date\":\"03.27\",\"confirm_add\":4764,\"confirm\":86043,\"heal\":753,\"dead\":1304,\"suspect\":0},{\"date\":\"03.28\",\"confirm_add\":16894,\"confirm\":104839,\"heal\":869,\"dead\":1716,\"suspect\":0},{\"date\":\"03.29\",\"confirm_add\":18093,\"confirm\":124676,\"heal\":1095,\"dead\":2196,\"suspect\":0},{\"date\":\"03.30\",\"confirm_add\":19332,\"confirm\":143071,\"heal\":4856,\"dead\":2513,\"suspect\":0}]}\n",
      "\n"
     ]
    }
   ],
   "source": [
    "country = input(\"请输入查询国家：\")\n",
    "res = get_response(country)\n",
    "print(res.text) # resposne.text 查看响应中的文本信息"
   ]
  },
  {
   "cell_type": "code",
   "execution_count": 7,
   "metadata": {},
   "outputs": [],
   "source": [
    "def get_response(country):\n",
    "    url = URL%(parse.quote(country))\n",
    "    data = {\n",
    "        \"country\": country,\n",
    "    }\n",
    "    response = requests.post(url,data=data,headers=headers)\n",
    "    return response"
   ]
  },
  {
   "cell_type": "code",
   "execution_count": 9,
   "metadata": {},
   "outputs": [],
   "source": [
    "# 将数据写入本地\n",
    "with open(\"yiqing.txt\",\"a\") as f:\n",
    "    f.write(res.text)"
   ]
  },
  {
   "cell_type": "code",
   "execution_count": 10,
   "metadata": {},
   "outputs": [
    {
     "name": "stdout",
     "output_type": "stream",
     "text": [
      "[{'date': '01.28', 'confirm_add': 0, 'confirm': 5, 'heal': 0, 'dead': 0, 'suspect': 0}, {'date': '01.29', 'confirm_add': 0, 'confirm': 5, 'heal': 0, 'dead': 0, 'suspect': 0}, {'date': '01.30', 'confirm_add': 0, 'confirm': 6, 'heal': 0, 'dead': 0, 'suspect': 0}, {'date': '01.31', 'confirm_add': 1, 'confirm': 6, 'heal': 0, 'dead': 0, 'suspect': 0}, {'date': '02.01', 'confirm_add': 1, 'confirm': 7, 'heal': 0, 'dead': 0, 'suspect': 0}, {'date': '02.02', 'confirm_add': 1, 'confirm': 8, 'heal': 0, 'dead': 0, 'suspect': 0}, {'date': '02.03', 'confirm_add': 3, 'confirm': 11, 'heal': 1, 'dead': 0, 'suspect': 0}, {'date': '02.04', 'confirm_add': 0, 'confirm': 11, 'heal': 1, 'dead': 0, 'suspect': 0}, {'date': '02.05', 'confirm_add': 0, 'confirm': 11, 'heal': 1, 'dead': 0, 'suspect': 0}, {'date': '02.06', 'confirm_add': 1, 'confirm': 12, 'heal': 1, 'dead': 0, 'suspect': 0}, {'date': '02.07', 'confirm_add': 0, 'confirm': 12, 'heal': 1, 'dead': 0, 'suspect': 0}, {'date': '02.08', 'confirm_add': 0, 'confirm': 12, 'heal': 1, 'dead': 0, 'suspect': 0}, {'date': '02.09', 'confirm_add': 0, 'confirm': 12, 'heal': 1, 'dead': 0, 'suspect': 0}, {'date': '02.10', 'confirm_add': 0, 'confirm': 12, 'heal': 1, 'dead': 0, 'suspect': 0}, {'date': '02.11', 'confirm_add': 1, 'confirm': 13, 'heal': 1, 'dead': 0, 'suspect': 0}, {'date': '02.12', 'confirm_add': 0, 'confirm': 13, 'heal': 3, 'dead': 0, 'suspect': 0}, {'date': '02.13', 'confirm_add': 1, 'confirm': 14, 'heal': 3, 'dead': 0, 'suspect': 0}, {'date': '02.14', 'confirm_add': 1, 'confirm': 15, 'heal': 3, 'dead': 0, 'suspect': 0}, {'date': '02.15', 'confirm_add': 0, 'confirm': 15, 'heal': 3, 'dead': 0, 'suspect': 0}, {'date': '02.16', 'confirm_add': 0, 'confirm': 15, 'heal': 3, 'dead': 0, 'suspect': 0}, {'date': '02.17', 'confirm_add': 0, 'confirm': 15, 'heal': 3, 'dead': 0, 'suspect': 0}, {'date': '02.18', 'confirm_add': 0, 'confirm': 15, 'heal': 3, 'dead': 0, 'suspect': 0}, {'date': '02.19', 'confirm_add': 0, 'confirm': 15, 'heal': 3, 'dead': 0, 'suspect': 0}, {'date': '02.20', 'confirm_add': 0, 'confirm': 15, 'heal': 3, 'dead': 0, 'suspect': 0}, {'date': '02.21', 'confirm_add': 0, 'confirm': 15, 'heal': 3, 'dead': 0, 'suspect': 0}, {'date': '02.22', 'confirm_add': 0, 'confirm': 34, 'heal': 3, 'dead': 0, 'suspect': 0}, {'date': '02.23', 'confirm_add': 19, 'confirm': 34, 'heal': 3, 'dead': 0, 'suspect': 0}, {'date': '02.24', 'confirm_add': 0, 'confirm': 35, 'heal': 3, 'dead': 0, 'suspect': 0}, {'date': '02.25', 'confirm_add': 1, 'confirm': 53, 'heal': 3, 'dead': 0, 'suspect': 0}, {'date': '02.26', 'confirm_add': 18, 'confirm': 57, 'heal': 3, 'dead': 0, 'suspect': 0}, {'date': '02.27', 'confirm_add': 4, 'confirm': 60, 'heal': 3, 'dead': 0, 'suspect': 0}, {'date': '02.28', 'confirm_add': 3, 'confirm': 60, 'heal': 3, 'dead': 0, 'suspect': 0}, {'date': '02.29', 'confirm_add': 0, 'confirm': 64, 'heal': 3, 'dead': 0, 'suspect': 0}, {'date': '03.01', 'confirm_add': 4, 'confirm': 69, 'heal': 3, 'dead': 1, 'suspect': 0}, {'date': '03.02', 'confirm_add': 5, 'confirm': 89, 'heal': 3, 'dead': 2, 'suspect': 0}, {'date': '03.03', 'confirm_add': 20, 'confirm': 105, 'heal': 3, 'dead': 6, 'suspect': 0}, {'date': '03.04', 'confirm_add': 19, 'confirm': 126, 'heal': 3, 'dead': 9, 'suspect': 0}, {'date': '03.05', 'confirm_add': 18, 'confirm': 161, 'heal': 8, 'dead': 11, 'suspect': 0}, {'date': '03.06', 'confirm_add': 35, 'confirm': 234, 'heal': 8, 'dead': 14, 'suspect': 0}, {'date': '03.07', 'confirm_add': 73, 'confirm': 337, 'heal': 10, 'dead': 17, 'suspect': 0}, {'date': '03.08', 'confirm_add': 103, 'confirm': 455, 'heal': 10, 'dead': 19, 'suspect': 0}, {'date': '03.09', 'confirm_add': 118, 'confirm': 582, 'heal': 10, 'dead': 22, 'suspect': 0}, {'date': '03.10', 'confirm_add': 127, 'confirm': 755, 'heal': 10, 'dead': 26, 'suspect': 0}, {'date': '03.11', 'confirm_add': 224, 'confirm': 1052, 'heal': 15, 'dead': 31, 'suspect': 0}, {'date': '03.12', 'confirm_add': 291, 'confirm': 1329, 'heal': 15, 'dead': 38, 'suspect': 0}, {'date': '03.13', 'confirm_add': 277, 'confirm': 1880, 'heal': 31, 'dead': 41, 'suspect': 0}, {'date': '03.14', 'confirm_add': 414, 'confirm': 2236, 'heal': 31, 'dead': 49, 'suspect': 0}, {'date': '03.15', 'confirm_add': 558, 'confirm': 2943, 'heal': 48, 'dead': 60, 'suspect': 0}, {'date': '03.16', 'confirm_add': 707, 'confirm': 3774, 'heal': 73, 'dead': 69, 'suspect': 0}, {'date': '03.17', 'confirm_add': 831, 'confirm': 4687, 'heal': 74, 'dead': 93, 'suspect': 0}, {'date': '03.18', 'confirm_add': 1822, 'confirm': 6522, 'heal': 106, 'dead': 116, 'suspect': 0}, {'date': '03.19', 'confirm_add': 3551, 'confirm': 10259, 'heal': 106, 'dead': 152, 'suspect': 0}, {'date': '03.20', 'confirm_add': 3355, 'confirm': 14365, 'heal': 125, 'dead': 212, 'suspect': 0}, {'date': '03.21', 'confirm_add': 4777, 'confirm': 20176, 'heal': 147, 'dead': 277, 'suspect': 0}, {'date': '03.22', 'confirm_add': 6680, 'confirm': 26856, 'heal': 178, 'dead': 346, 'suspect': 0}, {'date': '03.23', 'confirm_add': 8355, 'confirm': 35224, 'heal': 178, 'dead': 471, 'suspect': 0}, {'date': '03.24', 'confirm_add': 10591, 'confirm': 46443, 'heal': 314, 'dead': 586, 'suspect': 0}, {'date': '03.25', 'confirm_add': 9750, 'confirm': 55242, 'heal': 354, 'dead': 801, 'suspect': 0}, {'date': '03.26', 'confirm_add': 11656, 'confirm': 69223, 'heal': 619, 'dead': 1054, 'suspect': 0}, {'date': '03.27', 'confirm_add': 4764, 'confirm': 86043, 'heal': 753, 'dead': 1304, 'suspect': 0}, {'date': '03.28', 'confirm_add': 16894, 'confirm': 104839, 'heal': 869, 'dead': 1716, 'suspect': 0}, {'date': '03.29', 'confirm_add': 18093, 'confirm': 124676, 'heal': 1095, 'dead': 2196, 'suspect': 0}, {'date': '03.30', 'confirm_add': 19332, 'confirm': 143071, 'heal': 4856, 'dead': 2513, 'suspect': 0}]\n"
     ]
    }
   ],
   "source": [
    "data = res.text\n",
    "data = eval(data) # 转为字典\n",
    "# 数据中只有data对应的键值对为数据\n",
    "data = data[\"data\"]\n",
    "print(data)"
   ]
  },
  {
   "cell_type": "code",
   "execution_count": 11,
   "metadata": {},
   "outputs": [
    {
     "data": {
      "text/html": [
       "<div>\n",
       "<style scoped>\n",
       "    .dataframe tbody tr th:only-of-type {\n",
       "        vertical-align: middle;\n",
       "    }\n",
       "\n",
       "    .dataframe tbody tr th {\n",
       "        vertical-align: top;\n",
       "    }\n",
       "\n",
       "    .dataframe thead th {\n",
       "        text-align: right;\n",
       "    }\n",
       "</style>\n",
       "<table border=\"1\" class=\"dataframe\">\n",
       "  <thead>\n",
       "    <tr style=\"text-align: right;\">\n",
       "      <th></th>\n",
       "      <th>date</th>\n",
       "      <th>confirm_add</th>\n",
       "      <th>confirm</th>\n",
       "      <th>heal</th>\n",
       "      <th>dead</th>\n",
       "      <th>suspect</th>\n",
       "    </tr>\n",
       "  </thead>\n",
       "  <tbody>\n",
       "    <tr>\n",
       "      <th>0</th>\n",
       "      <td>01.28</td>\n",
       "      <td>0</td>\n",
       "      <td>5</td>\n",
       "      <td>0</td>\n",
       "      <td>0</td>\n",
       "      <td>0</td>\n",
       "    </tr>\n",
       "    <tr>\n",
       "      <th>1</th>\n",
       "      <td>01.29</td>\n",
       "      <td>0</td>\n",
       "      <td>5</td>\n",
       "      <td>0</td>\n",
       "      <td>0</td>\n",
       "      <td>0</td>\n",
       "    </tr>\n",
       "    <tr>\n",
       "      <th>2</th>\n",
       "      <td>01.30</td>\n",
       "      <td>0</td>\n",
       "      <td>6</td>\n",
       "      <td>0</td>\n",
       "      <td>0</td>\n",
       "      <td>0</td>\n",
       "    </tr>\n",
       "    <tr>\n",
       "      <th>3</th>\n",
       "      <td>01.31</td>\n",
       "      <td>1</td>\n",
       "      <td>6</td>\n",
       "      <td>0</td>\n",
       "      <td>0</td>\n",
       "      <td>0</td>\n",
       "    </tr>\n",
       "    <tr>\n",
       "      <th>4</th>\n",
       "      <td>02.01</td>\n",
       "      <td>1</td>\n",
       "      <td>7</td>\n",
       "      <td>0</td>\n",
       "      <td>0</td>\n",
       "      <td>0</td>\n",
       "    </tr>\n",
       "    <tr>\n",
       "      <th>...</th>\n",
       "      <td>...</td>\n",
       "      <td>...</td>\n",
       "      <td>...</td>\n",
       "      <td>...</td>\n",
       "      <td>...</td>\n",
       "      <td>...</td>\n",
       "    </tr>\n",
       "    <tr>\n",
       "      <th>58</th>\n",
       "      <td>03.26</td>\n",
       "      <td>11656</td>\n",
       "      <td>69223</td>\n",
       "      <td>619</td>\n",
       "      <td>1054</td>\n",
       "      <td>0</td>\n",
       "    </tr>\n",
       "    <tr>\n",
       "      <th>59</th>\n",
       "      <td>03.27</td>\n",
       "      <td>4764</td>\n",
       "      <td>86043</td>\n",
       "      <td>753</td>\n",
       "      <td>1304</td>\n",
       "      <td>0</td>\n",
       "    </tr>\n",
       "    <tr>\n",
       "      <th>60</th>\n",
       "      <td>03.28</td>\n",
       "      <td>16894</td>\n",
       "      <td>104839</td>\n",
       "      <td>869</td>\n",
       "      <td>1716</td>\n",
       "      <td>0</td>\n",
       "    </tr>\n",
       "    <tr>\n",
       "      <th>61</th>\n",
       "      <td>03.29</td>\n",
       "      <td>18093</td>\n",
       "      <td>124676</td>\n",
       "      <td>1095</td>\n",
       "      <td>2196</td>\n",
       "      <td>0</td>\n",
       "    </tr>\n",
       "    <tr>\n",
       "      <th>62</th>\n",
       "      <td>03.30</td>\n",
       "      <td>19332</td>\n",
       "      <td>143071</td>\n",
       "      <td>4856</td>\n",
       "      <td>2513</td>\n",
       "      <td>0</td>\n",
       "    </tr>\n",
       "  </tbody>\n",
       "</table>\n",
       "<p>63 rows × 6 columns</p>\n",
       "</div>"
      ],
      "text/plain": [
       "     date  confirm_add  confirm  heal  dead  suspect\n",
       "0   01.28            0        5     0     0        0\n",
       "1   01.29            0        5     0     0        0\n",
       "2   01.30            0        6     0     0        0\n",
       "3   01.31            1        6     0     0        0\n",
       "4   02.01            1        7     0     0        0\n",
       "..    ...          ...      ...   ...   ...      ...\n",
       "58  03.26        11656    69223   619  1054        0\n",
       "59  03.27         4764    86043   753  1304        0\n",
       "60  03.28        16894   104839   869  1716        0\n",
       "61  03.29        18093   124676  1095  2196        0\n",
       "62  03.30        19332   143071  4856  2513        0\n",
       "\n",
       "[63 rows x 6 columns]"
      ]
     },
     "execution_count": 11,
     "metadata": {},
     "output_type": "execute_result"
    }
   ],
   "source": [
    "# 导入pandas ，需要进行安装\n",
    "import pandas as pd # 使用as给包起别名\n",
    "df = pd.DataFrame(data) # DataFrame为pandas中的一个数据结构，类似于二维表格\n",
    "df"
   ]
  },
  {
   "cell_type": "code",
   "execution_count": 12,
   "metadata": {},
   "outputs": [],
   "source": [
    "# DataFrame中的drop方法可以通过指定标签名称和相应的轴，或直接指定索引或列名称来删除行或列。通过axis指定\n",
    "df = df.drop([\"confirm_add\", \"suspect\"], axis=1)"
   ]
  },
  {
   "cell_type": "code",
   "execution_count": 13,
   "metadata": {},
   "outputs": [],
   "source": [
    "# 保存数据，写入本地Excel文件中\n",
    "# python操作Excel文件需要安装环境依赖xlwt、xlrd工具包\n",
    "df.to_excel(\"yiqing.xls\", index=False) # to_csv可以写入到csv文件中"
   ]
  },
  {
   "cell_type": "code",
   "execution_count": 14,
   "metadata": {},
   "outputs": [
    {
     "data": {
      "text/html": [
       "<div>\n",
       "<style scoped>\n",
       "    .dataframe tbody tr th:only-of-type {\n",
       "        vertical-align: middle;\n",
       "    }\n",
       "\n",
       "    .dataframe tbody tr th {\n",
       "        vertical-align: top;\n",
       "    }\n",
       "\n",
       "    .dataframe thead th {\n",
       "        text-align: right;\n",
       "    }\n",
       "</style>\n",
       "<table border=\"1\" class=\"dataframe\">\n",
       "  <thead>\n",
       "    <tr style=\"text-align: right;\">\n",
       "      <th></th>\n",
       "      <th>date</th>\n",
       "      <th>confirm</th>\n",
       "      <th>heal</th>\n",
       "      <th>dead</th>\n",
       "    </tr>\n",
       "  </thead>\n",
       "  <tbody>\n",
       "    <tr>\n",
       "      <th>0</th>\n",
       "      <td>1.28</td>\n",
       "      <td>5</td>\n",
       "      <td>0</td>\n",
       "      <td>0</td>\n",
       "    </tr>\n",
       "    <tr>\n",
       "      <th>1</th>\n",
       "      <td>1.29</td>\n",
       "      <td>5</td>\n",
       "      <td>0</td>\n",
       "      <td>0</td>\n",
       "    </tr>\n",
       "    <tr>\n",
       "      <th>2</th>\n",
       "      <td>1.30</td>\n",
       "      <td>6</td>\n",
       "      <td>0</td>\n",
       "      <td>0</td>\n",
       "    </tr>\n",
       "    <tr>\n",
       "      <th>3</th>\n",
       "      <td>1.31</td>\n",
       "      <td>6</td>\n",
       "      <td>0</td>\n",
       "      <td>0</td>\n",
       "    </tr>\n",
       "    <tr>\n",
       "      <th>4</th>\n",
       "      <td>2.01</td>\n",
       "      <td>7</td>\n",
       "      <td>0</td>\n",
       "      <td>0</td>\n",
       "    </tr>\n",
       "    <tr>\n",
       "      <th>...</th>\n",
       "      <td>...</td>\n",
       "      <td>...</td>\n",
       "      <td>...</td>\n",
       "      <td>...</td>\n",
       "    </tr>\n",
       "    <tr>\n",
       "      <th>58</th>\n",
       "      <td>3.26</td>\n",
       "      <td>69223</td>\n",
       "      <td>619</td>\n",
       "      <td>1054</td>\n",
       "    </tr>\n",
       "    <tr>\n",
       "      <th>59</th>\n",
       "      <td>3.27</td>\n",
       "      <td>86043</td>\n",
       "      <td>753</td>\n",
       "      <td>1304</td>\n",
       "    </tr>\n",
       "    <tr>\n",
       "      <th>60</th>\n",
       "      <td>3.28</td>\n",
       "      <td>104839</td>\n",
       "      <td>869</td>\n",
       "      <td>1716</td>\n",
       "    </tr>\n",
       "    <tr>\n",
       "      <th>61</th>\n",
       "      <td>3.29</td>\n",
       "      <td>124676</td>\n",
       "      <td>1095</td>\n",
       "      <td>2196</td>\n",
       "    </tr>\n",
       "    <tr>\n",
       "      <th>62</th>\n",
       "      <td>3.30</td>\n",
       "      <td>143071</td>\n",
       "      <td>4856</td>\n",
       "      <td>2513</td>\n",
       "    </tr>\n",
       "  </tbody>\n",
       "</table>\n",
       "<p>63 rows × 4 columns</p>\n",
       "</div>"
      ],
      "text/plain": [
       "    date  confirm  heal  dead\n",
       "0   1.28        5     0     0\n",
       "1   1.29        5     0     0\n",
       "2   1.30        6     0     0\n",
       "3   1.31        6     0     0\n",
       "4   2.01        7     0     0\n",
       "..   ...      ...   ...   ...\n",
       "58  3.26    69223   619  1054\n",
       "59  3.27    86043   753  1304\n",
       "60  3.28   104839   869  1716\n",
       "61  3.29   124676  1095  2196\n",
       "62  3.30   143071  4856  2513\n",
       "\n",
       "[63 rows x 4 columns]"
      ]
     },
     "execution_count": 14,
     "metadata": {},
     "output_type": "execute_result"
    }
   ],
   "source": [
    "# 读取文件，查看写入的数据\n",
    "df = pd.read_excel(\"yiqing.xls\", index_col=None)\n",
    "df"
   ]
  },
  {
   "cell_type": "code",
   "execution_count": 21,
   "metadata": {},
   "outputs": [
    {
     "name": "stdout",
     "output_type": "stream",
     "text": [
      "2 -2\n"
     ]
    },
    {
     "data": {
      "text/plain": [
       "0"
      ]
     },
     "execution_count": 21,
     "metadata": {},
     "output_type": "execute_result"
    }
   ],
   "source": [
    "if -1:\n",
    "\n",
    "    a = True + 1\n",
    "\n",
    "    b = False - a\n",
    "\n",
    "else:\n",
    "\n",
    "    a = True +False\n",
    "\n",
    "    b = False + a\n",
    "print(a,b)\n",
    "True-True"
   ]
  },
  {
   "cell_type": "code",
   "execution_count": null,
   "metadata": {},
   "outputs": [],
   "source": []
  }
 ],
 "metadata": {
  "kernelspec": {
   "display_name": "Python 3",
   "language": "python",
   "name": "python3"
  },
  "language_info": {
   "codemirror_mode": {
    "name": "ipython",
    "version": 3
   },
   "file_extension": ".py",
   "mimetype": "text/x-python",
   "name": "python",
   "nbconvert_exporter": "python",
   "pygments_lexer": "ipython3",
   "version": "3.7.6"
  }
 },
 "nbformat": 4,
 "nbformat_minor": 4
}
