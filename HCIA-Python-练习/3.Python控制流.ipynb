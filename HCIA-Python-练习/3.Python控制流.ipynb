{
 "cells": [
  {
   "cell_type": "code",
   "execution_count": 1,
   "metadata": {},
   "outputs": [
    {
     "name": "stdout",
     "output_type": "stream",
     "text": [
      "socer：33\n",
      "不及格\n"
     ]
    }
   ],
   "source": [
    "a = input(\"socer：\")\n",
    "a = float(a)\n",
    "if 100 >= a >= 60:\n",
    "    print(\"及格\")\n",
    "elif 0 <= a < 60:\n",
    "    print(\"不及格\")\n",
    "else:\n",
    "    print(\"分数错误\")"
   ]
  },
  {
   "cell_type": "code",
   "execution_count": 2,
   "metadata": {},
   "outputs": [
    {
     "name": "stdout",
     "output_type": "stream",
     "text": [
      "T\n",
      "python\n"
     ]
    }
   ],
   "source": [
    "if 0:\n",
    "    print(\"F\")\n",
    "if 1:\n",
    "    print(\"T\")\n",
    "if \"python\":\n",
    "    print(\"python\")\n",
    "if None:\n",
    "    print(\"None\")"
   ]
  },
  {
   "cell_type": "code",
   "execution_count": 5,
   "metadata": {},
   "outputs": [
    {
     "name": "stdout",
     "output_type": "stream",
     "text": [
      "循环第1次\n",
      "循环第2次\n",
      "循环第3次\n",
      "循环完毕\n"
     ]
    }
   ],
   "source": [
    "for i in [1,2,3]:\n",
    "    print(\"循环第%d次\"%(i))\n",
    "else:\n",
    "    print(\"循环完毕\")"
   ]
  },
  {
   "cell_type": "code",
   "execution_count": 6,
   "metadata": {},
   "outputs": [
    {
     "name": "stdout",
     "output_type": "stream",
     "text": [
      "1X1=1  \n",
      "1X2=2  2X2=4  \n",
      "1X3=3  2X3=6  3X3=9  \n",
      "1X4=4  2X4=8  3X4=12 4X4=16 \n",
      "1X5=5  2X5=10 3X5=15 4X5=20 5X5=25 \n",
      "1X6=6  2X6=12 3X6=18 4X6=24 5X6=30 6X6=36 \n",
      "1X7=7  2X7=14 3X7=21 4X7=28 5X7=35 6X7=42 7X7=49 \n",
      "1X8=8  2X8=16 3X8=24 4X8=32 5X8=40 6X8=48 7X8=56 8X8=64 \n",
      "1X9=9  2X9=18 3X9=27 4X9=36 5X9=45 6X9=54 7X9=63 8X9=72 9X9=81 \n"
     ]
    }
   ],
   "source": [
    "# 使用 for循环完成乘法口诀\n",
    "for i in range(1,10):\n",
    "    for j in range(1,i+1):\n",
    "        print(\"%dX%d=%-2d\"%(j,i,j*i), end=\" \")\n",
    "    print()"
   ]
  },
  {
   "cell_type": "code",
   "execution_count": 8,
   "metadata": {},
   "outputs": [
    {
     "name": "stdout",
     "output_type": "stream",
     "text": [
      "5\n",
      "4\n",
      "3\n",
      "2\n",
      "1\n",
      "循环结束\n"
     ]
    }
   ],
   "source": [
    "i = 5\n",
    "while i>0:\n",
    "    print(i)\n",
    "    i -= 1\n",
    "else:\n",
    "    print(\"循环结束\")"
   ]
  },
  {
   "cell_type": "code",
   "execution_count": 9,
   "metadata": {},
   "outputs": [
    {
     "name": "stdout",
     "output_type": "stream",
     "text": [
      "0\n",
      "2\n",
      "4\n",
      "6\n",
      "8\n"
     ]
    }
   ],
   "source": [
    "# 使用continue跳过当次循环\n",
    "for i in range(10):\n",
    "    if i % 2:\n",
    "        continue\n",
    "    print(i)"
   ]
  },
  {
   "cell_type": "code",
   "execution_count": 10,
   "metadata": {},
   "outputs": [
    {
     "name": "stdout",
     "output_type": "stream",
     "text": [
      "0\n",
      "1\n"
     ]
    }
   ],
   "source": [
    "# 使用break跳出当前循环\n",
    "for i in range(10):\n",
    "    if i == 2:\n",
    "        break\n",
    "    print(i)"
   ]
  },
  {
   "cell_type": "code",
   "execution_count": 11,
   "metadata": {},
   "outputs": [
    {
     "name": "stdout",
     "output_type": "stream",
     "text": [
      "1\n"
     ]
    }
   ],
   "source": [
    "# 嵌套循环中的break\n",
    "for i in range(3):\n",
    "    for j in range(i):\n",
    "        if i == 2:\n",
    "            break\n",
    "        print(i)"
   ]
  },
  {
   "cell_type": "code",
   "execution_count": 18,
   "metadata": {},
   "outputs": [],
   "source": [
    "a = range(1,10)"
   ]
  },
  {
   "cell_type": "code",
   "execution_count": 22,
   "metadata": {},
   "outputs": [
    {
     "data": {
      "text/plain": [
       "1"
      ]
     },
     "execution_count": 22,
     "metadata": {},
     "output_type": "execute_result"
    }
   ],
   "source": [
    "min(a)"
   ]
  },
  {
   "cell_type": "code",
   "execution_count": null,
   "metadata": {},
   "outputs": [],
   "source": []
  }
 ],
 "metadata": {
  "kernelspec": {
   "display_name": "Python 3",
   "language": "python",
   "name": "python3"
  },
  "language_info": {
   "codemirror_mode": {
    "name": "ipython",
    "version": 3
   },
   "file_extension": ".py",
   "mimetype": "text/x-python",
   "name": "python",
   "nbconvert_exporter": "python",
   "pygments_lexer": "ipython3",
   "version": "3.7.6"
  }
 },
 "nbformat": 4,
 "nbformat_minor": 4
}
