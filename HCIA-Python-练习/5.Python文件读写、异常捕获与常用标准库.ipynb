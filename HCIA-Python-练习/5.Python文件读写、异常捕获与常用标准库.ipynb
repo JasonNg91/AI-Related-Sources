{
 "cells": [
  {
   "cell_type": "code",
   "execution_count": 1,
   "metadata": {},
   "outputs": [
    {
     "name": "stdout",
     "output_type": "stream",
     "text": [
      "请输入要写入的内容：3\n"
     ]
    }
   ],
   "source": [
    "f = open(\"text.txt\", 'w') # 打开文件text.txt，当文件不存在时会新建一个。\n",
    "Str = input(\"请输入要写入的内容：\")\n",
    "f.write(Str)\n",
    "f.close()"
   ]
  },
  {
   "cell_type": "code",
   "execution_count": 2,
   "metadata": {},
   "outputs": [
    {
     "name": "stdout",
     "output_type": "stream",
     "text": [
      "3\n",
      "\n"
     ]
    }
   ],
   "source": [
    "f = open(\"text.txt\", 'r')\n",
    "print(f.read(6)) # 读取六个字符，当前光标后移六个字符\n",
    "print(f.read()) # 读取光标所在位置至最后\n",
    "f.close()"
   ]
  },
  {
   "cell_type": "code",
   "execution_count": 3,
   "metadata": {},
   "outputs": [
    {
     "name": "stdout",
     "output_type": "stream",
     "text": [
      "python文件操作\n"
     ]
    }
   ],
   "source": [
    "# 上下文管理器\n",
    "# 使用with语句进行文件写入\n",
    "with open(\"text1.txt\", 'w') as f:\n",
    "    f.write(\"python文件操作\")\n",
    "# 使用with语句读取文件内容\n",
    "with open(\"text1.txt\", 'r') as f:\n",
    "    print(f.read())"
   ]
  },
  {
   "cell_type": "code",
   "execution_count": 4,
   "metadata": {},
   "outputs": [
    {
     "name": "stdout",
     "output_type": "stream",
     "text": [
      "division by zero\n"
     ]
    }
   ],
   "source": [
    "# 使用try except 捕获异常\n",
    "try:\n",
    "    print(1/0)\n",
    "except Exception as e:\n",
    "    print(e)"
   ]
  },
  {
   "cell_type": "code",
   "execution_count": 5,
   "metadata": {},
   "outputs": [
    {
     "name": "stdout",
     "output_type": "stream",
     "text": [
      "0\n",
      "1\n",
      "2\n",
      "3\n",
      "4\n",
      "5\n"
     ]
    },
    {
     "ename": "SystemExit",
     "evalue": "0",
     "output_type": "error",
     "traceback": [
      "An exception has occurred, use %tb to see the full traceback.\n",
      "\u001b[1;31mSystemExit\u001b[0m\u001b[1;31m:\u001b[0m 0\n"
     ]
    },
    {
     "name": "stderr",
     "output_type": "stream",
     "text": [
      "d:\\software\\anaconda3\\lib\\site-packages\\IPython\\core\\interactiveshell.py:3339: UserWarning: To exit: use 'exit', 'quit', or Ctrl-D.\n",
      "  warn(\"To exit: use 'exit', 'quit', or Ctrl-D.\", stacklevel=1)\n"
     ]
    }
   ],
   "source": [
    "# sys.exit([n])：此方法可以是当前程序退出，n为0时表示正常退出，其他值表示异常退出。\n",
    "import sys\n",
    "for i in range(100):\n",
    "    print(i)\n",
    "    if i ==5:\n",
    "        sys.exit(0)"
   ]
  },
  {
   "cell_type": "code",
   "execution_count": 6,
   "metadata": {},
   "outputs": [
    {
     "data": {
      "text/plain": [
       "['C:\\\\Users\\\\mouya\\\\Desktop\\\\Python_Exercise',\n",
       " 'd:\\\\software\\\\anaconda3\\\\python37.zip',\n",
       " 'd:\\\\software\\\\anaconda3\\\\DLLs',\n",
       " 'd:\\\\software\\\\anaconda3\\\\lib',\n",
       " 'd:\\\\software\\\\anaconda3',\n",
       " '',\n",
       " 'd:\\\\software\\\\anaconda3\\\\lib\\\\site-packages',\n",
       " 'd:\\\\software\\\\anaconda3\\\\lib\\\\site-packages\\\\win32',\n",
       " 'd:\\\\software\\\\anaconda3\\\\lib\\\\site-packages\\\\win32\\\\lib',\n",
       " 'd:\\\\software\\\\anaconda3\\\\lib\\\\site-packages\\\\Pythonwin',\n",
       " 'd:\\\\software\\\\anaconda3\\\\lib\\\\site-packages\\\\IPython\\\\extensions',\n",
       " 'C:\\\\Users\\\\mouya\\\\.ipython']"
      ]
     },
     "execution_count": 6,
     "metadata": {},
     "output_type": "execute_result"
    }
   ],
   "source": [
    "# sys.path：获取模块搜索路径。\n",
    "sys.path"
   ]
  },
  {
   "cell_type": "code",
   "execution_count": null,
   "metadata": {},
   "outputs": [],
   "source": [
    "# sys.platform：获取当前系统平台。\n",
    "sys.platform"
   ]
  },
  {
   "cell_type": "code",
   "execution_count": null,
   "metadata": {},
   "outputs": [],
   "source": [
    "import os\n",
    "# os.getpid() 获取当前进程id\n",
    "print(\"当前进程的ID：\", os.getpid())\n",
    "\n",
    "# os.getppid():获取当前父进程id\n",
    "print(\"当前父进程的ID：\", os.getppid())\n",
    "\n",
    "# os.getcwd()：获取当前所在路径\n",
    "cwd = os.getcwd()\n",
    "print(\"当前所在路径为：\",cwd)\n",
    "\n",
    "# os.chdir(path)：改变当前工作目录\n",
    "os.chdir(\"C:\\\\\")\n",
    "print(\"修改后当前所在路径为：\", os.getcwd())\n",
    "\n",
    "# os.listdir()：返回目录下所有文件\n",
    "print(\"当前目录下的文件有：\", os.listdir(cwd))\n",
    "\n",
    "# os.walk()：输出当前路径下的所有文件\n",
    "for root, dirs, files in os.walk(cwd, topdown=False):\n",
    "    for name in files:\n",
    "        print(os.path.join(root, name))\n",
    "    for name in dirs:\n",
    "        print(os.path.join(root, name))"
   ]
  },
  {
   "cell_type": "code",
   "execution_count": null,
   "metadata": {},
   "outputs": [],
   "source": [
    "# os.chdir(path)：改变当前工作目录\n",
    "os.chdir(\"C:\\\\Users\\\\mouya\\\\Desktop\\\\Python_Exercise\")\n",
    "print(\"修改后当前所在路径为：\", os.getcwd())\n",
    "\n",
    "# os.getcwd()：获取当前所在路径\n",
    "cwd = os.getcwd()\n",
    "print(\"当前所在路径为：\",cwd)\n",
    "\n",
    "# os.path模块：主要用于获取文件的属性。\n",
    "import os\n",
    "# os.path.abspath(path)：返回绝对路径\n",
    "print(\"text.txt的绝对路径为：\",os.path.abspath(\"text.txt\")) # text.txt 为当前文件夹下的一个文件（上一个实验中将当前路径切换为C:\\,需要将路径切换回来）\n",
    "\n",
    "# os.path.exists(path)：文件存在则返回True,不存在返回False\n",
    "print(\"text.txt是否存在：\",os.path.exists(\"text.txt\"))\n",
    "\n",
    "# os.path.getsize(path)：返回文件大小，如果文件不存在就返回错误\n",
    "print(\"text.txt的文件大小：\",os.path.getsize(\"text.txt\"))\n",
    "\n",
    "# os.path.isfile(path)：判断路径是否为文件\n",
    "print(\"text.txt是否为文件：\",os.path.isfile(\"text.txt\"))\n",
    "\n",
    "# os.path.isdir(path)：判断路径是否为文件夹\n",
    "print(\"text.txt是否为文件夹：\",os.path.isdir(\"text.txt\"))"
   ]
  },
  {
   "cell_type": "code",
   "execution_count": null,
   "metadata": {},
   "outputs": [],
   "source": []
  }
 ],
 "metadata": {
  "kernelspec": {
   "display_name": "Python 3",
   "language": "python",
   "name": "python3"
  },
  "language_info": {
   "codemirror_mode": {
    "name": "ipython",
    "version": 3
   },
   "file_extension": ".py",
   "mimetype": "text/x-python",
   "name": "python",
   "nbconvert_exporter": "python",
   "pygments_lexer": "ipython3",
   "version": "3.7.6"
  }
 },
 "nbformat": 4,
 "nbformat_minor": 4
}
